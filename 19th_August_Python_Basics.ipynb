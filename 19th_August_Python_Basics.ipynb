{
 "cells": [
  {
   "cell_type": "code",
   "execution_count": 1,
   "id": "61f5e0e5",
   "metadata": {},
   "outputs": [],
   "source": [
    "#TOPIC: Python Basics Variable"
   ]
  },
  {
   "cell_type": "code",
   "execution_count": 2,
   "id": "fef29563",
   "metadata": {},
   "outputs": [],
   "source": [
    "# 1. Declare two variables, `x` and `y`, and assign them integer values. Swap the\n",
    "# values of these variables without using any temporary variable."
   ]
  },
  {
   "cell_type": "code",
   "execution_count": 3,
   "id": "d03e8c7b",
   "metadata": {},
   "outputs": [],
   "source": [
    "# Declare two variables 'x' and 'y' and assign them values\n",
    "x=20\n",
    "y=30"
   ]
  },
  {
   "cell_type": "code",
   "execution_count": 4,
   "id": "45f43ae5",
   "metadata": {},
   "outputs": [
    {
     "name": "stdout",
     "output_type": "stream",
     "text": [
      "Before swapping values x: 20, y:30\n"
     ]
    }
   ],
   "source": [
    "print(f'Before swapping values x: {x}, y:{y}')"
   ]
  },
  {
   "cell_type": "code",
   "execution_count": 6,
   "id": "baea1d5b",
   "metadata": {},
   "outputs": [],
   "source": [
    "#Swap the values \n",
    "x=x+y\n",
    "y=x-y\n",
    "x=x-y"
   ]
  },
  {
   "cell_type": "code",
   "execution_count": 7,
   "id": "2d33b7e7",
   "metadata": {},
   "outputs": [
    {
     "name": "stdout",
     "output_type": "stream",
     "text": [
      "After swapping values x: 30, y:20\n"
     ]
    }
   ],
   "source": [
    "print(f'After swapping values x: {x}, y:{y}')"
   ]
  },
  {
   "cell_type": "code",
   "execution_count": null,
   "id": "f5b384b7",
   "metadata": {},
   "outputs": [],
   "source": []
  },
  {
   "cell_type": "code",
   "execution_count": 8,
   "id": "98400995",
   "metadata": {},
   "outputs": [],
   "source": [
    "# 2. Create a program that calculates the area of a rectangle. Take the length and\n",
    "# width as inputs from the user and store them in variables. Calculate and\n",
    "# display the area."
   ]
  },
  {
   "cell_type": "code",
   "execution_count": 9,
   "id": "1aede532",
   "metadata": {},
   "outputs": [
    {
     "name": "stdout",
     "output_type": "stream",
     "text": [
      "Enter the length of the rectangle: 20\n",
      "Enter the width of the rectangle: 12.40\n"
     ]
    }
   ],
   "source": [
    "# Input the length and width from the user\n",
    "length = float(input(\"Enter the length of the rectangle: \"))\n",
    "width = float(input(\"Enter the width of the rectangle: \"))"
   ]
  },
  {
   "cell_type": "code",
   "execution_count": 14,
   "id": "c088373b",
   "metadata": {},
   "outputs": [
    {
     "name": "stdout",
     "output_type": "stream",
     "text": [
      "The area of the rectangle is: 248.0\n"
     ]
    }
   ],
   "source": [
    "# Calculate the area of the rectangle\n",
    "area = length * width\n",
    "print(f\"The area of the rectangle is: {area}\")"
   ]
  },
  {
   "cell_type": "code",
   "execution_count": null,
   "id": "a2be5704",
   "metadata": {},
   "outputs": [],
   "source": []
  },
  {
   "cell_type": "code",
   "execution_count": 15,
   "id": "08e6cdf3",
   "metadata": {},
   "outputs": [],
   "source": [
    "# 3. Write a Python program that converts temperatures from Celsius to\n",
    "# Fahrenheit. Take the temperature in Celsius as input, store it in a variable,\n",
    "# convert it to Fahrenheit, and display the result."
   ]
  },
  {
   "cell_type": "code",
   "execution_count": 21,
   "id": "b6175f12",
   "metadata": {},
   "outputs": [
    {
     "name": "stdout",
     "output_type": "stream",
     "text": [
      "Enter the temperature in Celsius: 35.6\n"
     ]
    }
   ],
   "source": [
    "# Input the temperature in Celsius from the user\n",
    "celsius = float(input(\"Enter the temperature in Celsius: \"))"
   ]
  },
  {
   "cell_type": "code",
   "execution_count": 22,
   "id": "ec2abf02",
   "metadata": {},
   "outputs": [],
   "source": [
    "# Convert Celsius to Fahrenheit\n",
    "fahrenheit = (celsius * 9/5) + 32"
   ]
  },
  {
   "cell_type": "code",
   "execution_count": 23,
   "id": "a5b0ece2",
   "metadata": {},
   "outputs": [
    {
     "name": "stdout",
     "output_type": "stream",
     "text": [
      "Temperature in Fahrenheit: 96.08000000000001\n"
     ]
    }
   ],
   "source": [
    "# Display the converted temperature\n",
    "print(\"Temperature in Fahrenheit:\", fahrenheit)"
   ]
  },
  {
   "cell_type": "code",
   "execution_count": null,
   "id": "ffe09038",
   "metadata": {},
   "outputs": [],
   "source": []
  },
  {
   "cell_type": "code",
   "execution_count": null,
   "id": "b97178b8",
   "metadata": {},
   "outputs": [],
   "source": []
  },
  {
   "cell_type": "code",
   "execution_count": 25,
   "id": "04f1ddba",
   "metadata": {},
   "outputs": [],
   "source": [
    "# TOPIC: String Based Questions"
   ]
  },
  {
   "cell_type": "code",
   "execution_count": 60,
   "id": "993d9927",
   "metadata": {},
   "outputs": [],
   "source": [
    "# 1. Write a Python program that takes a string as input and prints the length of\n",
    "# the string."
   ]
  },
  {
   "cell_type": "code",
   "execution_count": 26,
   "id": "11258a16",
   "metadata": {},
   "outputs": [
    {
     "name": "stdout",
     "output_type": "stream",
     "text": [
      "Enter a string: Welcome to pw skills data science pro class\n"
     ]
    }
   ],
   "source": [
    "# Input a string from the user\n",
    "user_input = input(\"Enter a string: \")"
   ]
  },
  {
   "cell_type": "code",
   "execution_count": 27,
   "id": "ccf374fd",
   "metadata": {},
   "outputs": [],
   "source": [
    "string_length = len(user_input)"
   ]
  },
  {
   "cell_type": "code",
   "execution_count": 28,
   "id": "fde85713",
   "metadata": {},
   "outputs": [
    {
     "name": "stdout",
     "output_type": "stream",
     "text": [
      "Length of the string:43 \n"
     ]
    }
   ],
   "source": [
    "# Display the length of the string\n",
    "print(f'Length of the string:{string_length} ')"
   ]
  },
  {
   "cell_type": "code",
   "execution_count": null,
   "id": "12c80522",
   "metadata": {},
   "outputs": [],
   "source": []
  },
  {
   "cell_type": "code",
   "execution_count": 29,
   "id": "07c70f68",
   "metadata": {},
   "outputs": [],
   "source": [
    "# 2. Create a program that takes a sentence from the user and counts the number\n",
    "# of vowels (a, e, i, o, u) in the string.s"
   ]
  },
  {
   "cell_type": "code",
   "execution_count": 30,
   "id": "246e83b7",
   "metadata": {},
   "outputs": [
    {
     "name": "stdout",
     "output_type": "stream",
     "text": [
      "Enter a sentence: Welcome to pw skills data science pro class\n"
     ]
    }
   ],
   "source": [
    "# Input a sentence from the user\n",
    "sentence = input(\"Enter a sentence: \")"
   ]
  },
  {
   "cell_type": "code",
   "execution_count": 31,
   "id": "ed418ce4",
   "metadata": {},
   "outputs": [],
   "source": [
    "sentence = sentence.lower()\n",
    "vowel_count = 0"
   ]
  },
  {
   "cell_type": "code",
   "execution_count": 32,
   "id": "c44265d6",
   "metadata": {},
   "outputs": [],
   "source": [
    "# iterate through each character in sentence\n",
    "for char in sentence:\n",
    "    if char in 'aeiou':\n",
    "        vowel_count+=1"
   ]
  },
  {
   "cell_type": "code",
   "execution_count": 33,
   "id": "422987dd",
   "metadata": {},
   "outputs": [
    {
     "name": "stdout",
     "output_type": "stream",
     "text": [
      "Number of vowels in the sentence: 12\n"
     ]
    }
   ],
   "source": [
    "# Display the count of vowels in the sentence\n",
    "print(f\"Number of vowels in the sentence: {vowel_count}\")"
   ]
  },
  {
   "cell_type": "code",
   "execution_count": null,
   "id": "1807942f",
   "metadata": {},
   "outputs": [],
   "source": []
  },
  {
   "cell_type": "code",
   "execution_count": 34,
   "id": "fce37cb8",
   "metadata": {},
   "outputs": [],
   "source": [
    "# 3. Given a string, reverse the order of characters using string slicing and print\n",
    "# the reversed string."
   ]
  },
  {
   "cell_type": "code",
   "execution_count": 38,
   "id": "f3316647",
   "metadata": {},
   "outputs": [
    {
     "name": "stdout",
     "output_type": "stream",
     "text": [
      "Enter a string: Madam\n"
     ]
    }
   ],
   "source": [
    "# Input a string from the user\n",
    "original_string = input(\"Enter a string: \")"
   ]
  },
  {
   "cell_type": "code",
   "execution_count": 39,
   "id": "54e1105b",
   "metadata": {},
   "outputs": [],
   "source": [
    "# Reverse the string\n",
    "reversed_string = original_string[::-1]"
   ]
  },
  {
   "cell_type": "code",
   "execution_count": 40,
   "id": "c34d7a70",
   "metadata": {},
   "outputs": [
    {
     "name": "stdout",
     "output_type": "stream",
     "text": [
      "Reversed string: madaM\n"
     ]
    }
   ],
   "source": [
    "# Display the reversed string\n",
    "print(\"Reversed string:\", reversed_string)"
   ]
  },
  {
   "cell_type": "code",
   "execution_count": null,
   "id": "89975a10",
   "metadata": {},
   "outputs": [],
   "source": []
  },
  {
   "cell_type": "code",
   "execution_count": 41,
   "id": "e7749b36",
   "metadata": {},
   "outputs": [],
   "source": [
    "# 4. Write a program that takes a string as input and checks if it is a palindrome\n",
    "# (reads the same forwards and backwards)."
   ]
  },
  {
   "cell_type": "code",
   "execution_count": 49,
   "id": "72b45455",
   "metadata": {},
   "outputs": [],
   "source": [
    "def is_palindrom(input_string):\n",
    "    input_string=input_string.lower().replace(\" \",\"\")\n",
    "    \n",
    "    reverse_string=input_string[::-1]\n",
    "    \n",
    "    return input_string==reverse_string"
   ]
  },
  {
   "cell_type": "code",
   "execution_count": 50,
   "id": "258e742a",
   "metadata": {},
   "outputs": [
    {
     "name": "stdout",
     "output_type": "stream",
     "text": [
      "Enter string: Madam\n"
     ]
    }
   ],
   "source": [
    "# user input for checking palindrom string\n",
    "user_input=input(\"Enter string: \")"
   ]
  },
  {
   "cell_type": "code",
   "execution_count": 51,
   "id": "1d569cf3",
   "metadata": {},
   "outputs": [
    {
     "name": "stdout",
     "output_type": "stream",
     "text": [
      "string is palindrom\n"
     ]
    }
   ],
   "source": [
    "if is_palindrom(user_input):\n",
    "    print(\"string is palindrom\")\n",
    "else:\n",
    "    print(\"String is not palindrom\")"
   ]
  },
  {
   "cell_type": "code",
   "execution_count": null,
   "id": "18134456",
   "metadata": {},
   "outputs": [],
   "source": []
  },
  {
   "cell_type": "code",
   "execution_count": 52,
   "id": "be5dc84f",
   "metadata": {},
   "outputs": [],
   "source": [
    "# 5. Create a program that takes a string as input and removes all the spaces from\n",
    "# it. Print the modified string without spaces."
   ]
  },
  {
   "cell_type": "code",
   "execution_count": 55,
   "id": "c05c34ff",
   "metadata": {},
   "outputs": [
    {
     "name": "stdout",
     "output_type": "stream",
     "text": [
      "Enter a string: Welcome to pw skills data science pro class\n"
     ]
    }
   ],
   "source": [
    "# user input as a string\n",
    "original_string=input(\"Enter a string: \")"
   ]
  },
  {
   "cell_type": "code",
   "execution_count": 58,
   "id": "0c4d3de0",
   "metadata": {},
   "outputs": [],
   "source": [
    "def remove_spaces(user_input):\n",
    "    user_input=user_input.replace(\" \",\"\")\n",
    "    \n",
    "    #printing string without spaces\n",
    "    print(f\" modified string without spaces: {user_input}\")"
   ]
  },
  {
   "cell_type": "code",
   "execution_count": 59,
   "id": "d1be2dfb",
   "metadata": {},
   "outputs": [
    {
     "name": "stdout",
     "output_type": "stream",
     "text": [
      " modified string without spaces: Welcometopwskillsdatascienceproclass\n"
     ]
    }
   ],
   "source": [
    "#calling function\n",
    "remove_spaces(original_string)"
   ]
  },
  {
   "cell_type": "code",
   "execution_count": null,
   "id": "6123991a",
   "metadata": {},
   "outputs": [],
   "source": []
  }
 ],
 "metadata": {
  "kernelspec": {
   "display_name": "Python 3 (ipykernel)",
   "language": "python",
   "name": "python3"
  },
  "language_info": {
   "codemirror_mode": {
    "name": "ipython",
    "version": 3
   },
   "file_extension": ".py",
   "mimetype": "text/x-python",
   "name": "python",
   "nbconvert_exporter": "python",
   "pygments_lexer": "ipython3",
   "version": "3.9.13"
  }
 },
 "nbformat": 4,
 "nbformat_minor": 5
}
